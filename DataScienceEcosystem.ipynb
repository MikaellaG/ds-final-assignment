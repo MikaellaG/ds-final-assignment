{
  "metadata": {
    "kernelspec": {
      "name": "SQLite",
      "display_name": "SQLite",
      "language": "sql"
    },
    "language_info": {
      "codemirror_mode": "sql",
      "file_extension": "",
      "mimetype": "",
      "name": "sql",
      "version": "3.32.3"
    }
  },
  "nbformat_minor": 5,
  "nbformat": 4,
  "cells": [
    {
      "id": "23a529f2-1110-411a-8a8d-591e036d7410",
      "cell_type": "markdown",
      "source": "# Data Science Tools and Ecosystem\nIn this notebook, Data Science Tools and Ecosystem are summarized.\n\nSome of the popular languages that Data Scientists use are:\n\n1. Python  \n2. R  \n3. SQL  \n4. Julia\n\nSome of the commonly used libraries used by Data Scientists include:\n\n1. Pandas  \n2. NumPy  \n3. Matplotlib  \n4. Scikit-learn\n\n| Data Science Tools       |\n|--------------------------|\n| Jupyter Notebook         |\n| RStudio                  |\n| Apache Zeppelin          |\n\n### Below are a few examples of evaluating arithmetic expressions in Python.\n",
      "metadata": {}
    },
    {
      "id": "1794caaa-67b0-42bb-b2c1-1b7a283041d9",
      "cell_type": "code",
      "source": "# This is a simple arithmetic expression to multiply then add integers\n(3 * 4) + 5\n",
      "metadata": {
        "trusted": true
      },
      "outputs": [],
      "execution_count": null
    },
    {
      "id": "09322f23-5f2a-4f0d-a9c7-4a5ccf50392a",
      "cell_type": "markdown",
      "source": "17",
      "metadata": {}
    },
    {
      "id": "56670923-2c8c-45ed-8a1f-68dd4a8ddf53",
      "cell_type": "code",
      "source": "# This will convert 200 minutes to hours by dividing by 60\n200 / 60\n",
      "metadata": {
        "trusted": true
      },
      "outputs": [],
      "execution_count": null
    },
    {
      "id": "b63c64dd-d04f-458f-a448-6cb4b409b46e",
      "cell_type": "markdown",
      "source": "3.3333333333333335\n",
      "metadata": {}
    },
    {
      "id": "46bd4325-2085-4375-ab23-dae1e9223902",
      "cell_type": "markdown",
      "source": "**Objectives:**\n\n- List popular languages for Data Science  \n- List commonly used libraries in Data Science  \n- Create tables using markdown  \n- Evaluate arithmetic expressions in Python  \n- Convert minutes to hours using Python code\n",
      "metadata": {}
    },
    {
      "id": "041e866f-91b8-4de4-8b66-38979f6e88ce",
      "cell_type": "markdown",
      "source": "## Author\n\nMikaella Summer Gorgonio\n",
      "metadata": {}
    }
  ]
}